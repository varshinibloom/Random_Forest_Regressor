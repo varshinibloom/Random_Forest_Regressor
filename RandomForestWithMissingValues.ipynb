{
  "cells": [
    {
      "metadata": {
        "_cell_guid": "e81ee64d-e474-4662-9036-ce23df615199",
        "_uuid": "b6269c0e8f417f82daf093dda8fa0da6d2c57d86"
      },
      "cell_type": "markdown",
      "source": "# Introduction\n**This will be your workspace for Kaggle's Machine Learning education track.**\n\nYou will build and continually improve a model to predict housing prices as you work through each tutorial.  Fork this notebook and write your code in it.\n\nThe data from the tutorial, the Melbourne data, is not available in this workspace.  You will need to translate the concepts to work with the data in this notebook, the Iowa data.\n\nCome to the [Learn Discussion](https://www.kaggle.com/learn-forum) forum for any questions or comments. \n\n# Write Your Code Below\n\n"
    },
    {
      "metadata": {
        "_cell_guid": "86b26423-563a-4fa1-a595-89e25ff93089",
        "_uuid": "1c728098629e1301643443b1341556a15c089b2b",
        "trusted": true
      },
      "cell_type": "code",
      "source": "import pandas as pd\n\nmain_file_path = '../input/train.csv'\ndata = pd.read_csv(main_file_path)\nprint('hello world')",
      "execution_count": 1,
      "outputs": [
        {
          "name": "stdout",
          "output_type": "stream",
          "text": "hello world\n"
        }
      ]
    },
    {
      "metadata": {
        "_cell_guid": "6a00f220-d420-4e03-a425-e795b2307800",
        "_kg_hide-input": false,
        "_uuid": "12da4560ea661d0bc8a64b3b31564d105346957d",
        "trusted": true
      },
      "cell_type": "code",
      "source": "# save filepath to variable for easier access\ntrain_file_path = '../input/train.csv'\n# read the data and store data in DataFrame titled train_data\ntrain_data = pd.read_csv(train_file_path) \n# print a summary of the data in train data\nprint(train_data.describe())\n",
      "execution_count": 2,
      "outputs": [
        {
          "name": "stdout",
          "output_type": "stream",
          "text": "                Id   MSSubClass  LotFrontage        LotArea  OverallQual  \\\ncount  1460.000000  1460.000000  1201.000000    1460.000000  1460.000000   \nmean    730.500000    56.897260    70.049958   10516.828082     6.099315   \nstd     421.610009    42.300571    24.284752    9981.264932     1.382997   \nmin       1.000000    20.000000    21.000000    1300.000000     1.000000   \n25%     365.750000    20.000000    59.000000    7553.500000     5.000000   \n50%     730.500000    50.000000    69.000000    9478.500000     6.000000   \n75%    1095.250000    70.000000    80.000000   11601.500000     7.000000   \nmax    1460.000000   190.000000   313.000000  215245.000000    10.000000   \n\n       OverallCond    YearBuilt  YearRemodAdd   MasVnrArea   BsmtFinSF1  \\\ncount  1460.000000  1460.000000   1460.000000  1452.000000  1460.000000   \nmean      5.575342  1971.267808   1984.865753   103.685262   443.639726   \nstd       1.112799    30.202904     20.645407   181.066207   456.098091   \nmin       1.000000  1872.000000   1950.000000     0.000000     0.000000   \n25%       5.000000  1954.000000   1967.000000     0.000000     0.000000   \n50%       5.000000  1973.000000   1994.000000     0.000000   383.500000   \n75%       6.000000  2000.000000   2004.000000   166.000000   712.250000   \nmax       9.000000  2010.000000   2010.000000  1600.000000  5644.000000   \n\n           ...         WoodDeckSF  OpenPorchSF  EnclosedPorch    3SsnPorch  \\\ncount      ...        1460.000000  1460.000000    1460.000000  1460.000000   \nmean       ...          94.244521    46.660274      21.954110     3.409589   \nstd        ...         125.338794    66.256028      61.119149    29.317331   \nmin        ...           0.000000     0.000000       0.000000     0.000000   \n25%        ...           0.000000     0.000000       0.000000     0.000000   \n50%        ...           0.000000    25.000000       0.000000     0.000000   \n75%        ...         168.000000    68.000000       0.000000     0.000000   \nmax        ...         857.000000   547.000000     552.000000   508.000000   \n\n       ScreenPorch     PoolArea       MiscVal       MoSold       YrSold  \\\ncount  1460.000000  1460.000000   1460.000000  1460.000000  1460.000000   \nmean     15.060959     2.758904     43.489041     6.321918  2007.815753   \nstd      55.757415    40.177307    496.123024     2.703626     1.328095   \nmin       0.000000     0.000000      0.000000     1.000000  2006.000000   \n25%       0.000000     0.000000      0.000000     5.000000  2007.000000   \n50%       0.000000     0.000000      0.000000     6.000000  2008.000000   \n75%       0.000000     0.000000      0.000000     8.000000  2009.000000   \nmax     480.000000   738.000000  15500.000000    12.000000  2010.000000   \n\n           SalePrice  \ncount    1460.000000  \nmean   180921.195890  \nstd     79442.502883  \nmin     34900.000000  \n25%    129975.000000  \n50%    163000.000000  \n75%    214000.000000  \nmax    755000.000000  \n\n[8 rows x 38 columns]\n"
        }
      ]
    },
    {
      "metadata": {
        "_cell_guid": "e3d1235b-b140-4e2f-bb4e-2c166f58c890",
        "_uuid": "9168b200817ad3ac843c20acac202f00af0bcb10",
        "trusted": true
      },
      "cell_type": "code",
      "source": "print(train_data.columns)\n",
      "execution_count": 3,
      "outputs": [
        {
          "name": "stdout",
          "output_type": "stream",
          "text": "Index(['Id', 'MSSubClass', 'MSZoning', 'LotFrontage', 'LotArea', 'Street',\n       'Alley', 'LotShape', 'LandContour', 'Utilities', 'LotConfig',\n       'LandSlope', 'Neighborhood', 'Condition1', 'Condition2', 'BldgType',\n       'HouseStyle', 'OverallQual', 'OverallCond', 'YearBuilt', 'YearRemodAdd',\n       'RoofStyle', 'RoofMatl', 'Exterior1st', 'Exterior2nd', 'MasVnrType',\n       'MasVnrArea', 'ExterQual', 'ExterCond', 'Foundation', 'BsmtQual',\n       'BsmtCond', 'BsmtExposure', 'BsmtFinType1', 'BsmtFinSF1',\n       'BsmtFinType2', 'BsmtFinSF2', 'BsmtUnfSF', 'TotalBsmtSF', 'Heating',\n       'HeatingQC', 'CentralAir', 'Electrical', '1stFlrSF', '2ndFlrSF',\n       'LowQualFinSF', 'GrLivArea', 'BsmtFullBath', 'BsmtHalfBath', 'FullBath',\n       'HalfBath', 'BedroomAbvGr', 'KitchenAbvGr', 'KitchenQual',\n       'TotRmsAbvGrd', 'Functional', 'Fireplaces', 'FireplaceQu', 'GarageType',\n       'GarageYrBlt', 'GarageFinish', 'GarageCars', 'GarageArea', 'GarageQual',\n       'GarageCond', 'PavedDrive', 'WoodDeckSF', 'OpenPorchSF',\n       'EnclosedPorch', '3SsnPorch', 'ScreenPorch', 'PoolArea', 'PoolQC',\n       'Fence', 'MiscFeature', 'MiscVal', 'MoSold', 'YrSold', 'SaleType',\n       'SaleCondition', 'SalePrice'],\n      dtype='object')\n"
        }
      ]
    },
    {
      "metadata": {
        "_cell_guid": "b9cf127a-ba22-4c3e-8133-a01b72823aad",
        "_uuid": "b8d300d9acd352904a22a62a6e29648818e2ce2c",
        "trusted": true
      },
      "cell_type": "code",
      "source": "train_SalePrice_data = train_data.SalePrice\nprint(train_SalePrice_data.head())",
      "execution_count": 4,
      "outputs": [
        {
          "name": "stdout",
          "output_type": "stream",
          "text": "0    208500\n1    181500\n2    223500\n3    140000\n4    250000\nName: SalePrice, dtype: int64\n"
        }
      ]
    },
    {
      "metadata": {
        "_cell_guid": "40e1a942-8ed0-47ee-9844-f00d55b05adf",
        "_uuid": "038a8a6323ffefff816a24ba8922572c41509e6f",
        "trusted": true
      },
      "cell_type": "code",
      "source": "locality = ['Street', 'Neighborhood']\nStreet_Neighborhood = train_data[locality]\nStreet_Neighborhood.describe()\n",
      "execution_count": 5,
      "outputs": [
        {
          "data": {
            "text/html": "<div>\n<style>\n    .dataframe thead tr:only-child th {\n        text-align: right;\n    }\n\n    .dataframe thead th {\n        text-align: left;\n    }\n\n    .dataframe tbody tr th {\n        vertical-align: top;\n    }\n</style>\n<table border=\"1\" class=\"dataframe\">\n  <thead>\n    <tr style=\"text-align: right;\">\n      <th></th>\n      <th>Street</th>\n      <th>Neighborhood</th>\n    </tr>\n  </thead>\n  <tbody>\n    <tr>\n      <th>count</th>\n      <td>1460</td>\n      <td>1460</td>\n    </tr>\n    <tr>\n      <th>unique</th>\n      <td>2</td>\n      <td>25</td>\n    </tr>\n    <tr>\n      <th>top</th>\n      <td>Pave</td>\n      <td>NAmes</td>\n    </tr>\n    <tr>\n      <th>freq</th>\n      <td>1454</td>\n      <td>225</td>\n    </tr>\n  </tbody>\n</table>\n</div>",
            "text/plain": "       Street Neighborhood\ncount    1460         1460\nunique      2           25\ntop      Pave        NAmes\nfreq     1454          225"
          },
          "execution_count": 5,
          "metadata": {},
          "output_type": "execute_result"
        }
      ]
    },
    {
      "metadata": {
        "_cell_guid": "0d676715-3971-456e-b831-66bf1b041126",
        "_uuid": "7d9aa6017464a906f6e2e4d76069db86df815600",
        "trusted": true
      },
      "cell_type": "code",
      "source": "y = train_SalePrice_data\nIowa_predictors=['LotArea', 'YearBuilt', '1stFlrSF', '2ndFlrSF', 'FullBath', 'BedroomAbvGr', 'TotRmsAbvGrd']\nX = train_data[Iowa_predictors]\nfrom sklearn.ensemble import RandomForestRegressor\n# Define model\niowaForest_model = RandomForestRegressor()\n\n# Fit model\niowaForest_model.fit(X, y)",
      "execution_count": 6,
      "outputs": [
        {
          "data": {
            "text/plain": "RandomForestRegressor(bootstrap=True, criterion='mse', max_depth=None,\n           max_features='auto', max_leaf_nodes=None,\n           min_impurity_decrease=0.0, min_impurity_split=None,\n           min_samples_leaf=1, min_samples_split=2,\n           min_weight_fraction_leaf=0.0, n_estimators=10, n_jobs=1,\n           oob_score=False, random_state=None, verbose=0, warm_start=False)"
          },
          "execution_count": 6,
          "metadata": {},
          "output_type": "execute_result"
        }
      ]
    },
    {
      "metadata": {
        "_cell_guid": "0424abd8-5da8-401d-b7c0-a3689474839c",
        "_uuid": "2d301d65321dbff6b905cb18980ffc55d03cb062",
        "trusted": true
      },
      "cell_type": "code",
      "source": "print(\"Making predictions for the following 5 houses:\")\nprint(X.head())\nprint(\"The predictions are\")\nprint(iowaForest_model.predict(X.head()))",
      "execution_count": 7,
      "outputs": [
        {
          "name": "stdout",
          "output_type": "stream",
          "text": "Making predictions for the following 5 houses:\n   LotArea  YearBuilt  1stFlrSF  2ndFlrSF  FullBath  BedroomAbvGr  \\\n0     8450       2003       856       854         2             3   \n1     9600       1976      1262         0         2             3   \n2    11250       2001       920       866         2             3   \n3     9550       1915       961       756         1             3   \n4    14260       2000      1145      1053         2             4   \n\n   TotRmsAbvGrd  \n0             8  \n1             6  \n2             6  \n3             7  \n4             9  \nThe predictions are\n[ 204050.  184990.  225825.  145740.  261290.]\n"
        }
      ]
    },
    {
      "metadata": {
        "_cell_guid": "f08da22b-052e-40ef-aea2-a0ee3b9aacf1",
        "_uuid": "3239bb0541703b26fc5ac709751f4f31fc9fe452",
        "trusted": true
      },
      "cell_type": "code",
      "source": "# Validation Of Model\nfrom sklearn.metrics import mean_absolute_error\nfrom sklearn.model_selection import train_test_split\ntrain_X, val_X, train_y, val_y = train_test_split(X, y,random_state = 0)\niowaForest_model = RandomForestRegressor()\niowaForest_model.fit(train_X, train_y)\nval_predictions = iowaForest_model.predict(val_X)\nprint(mean_absolute_error(val_y, val_predictions))\n\n\n",
      "execution_count": 8,
      "outputs": [
        {
          "name": "stdout",
          "output_type": "stream",
          "text": "24962.2625571\n"
        }
      ]
    },
    {
      "metadata": {
        "_cell_guid": "0ccc848a-b8d5-40d6-83b1-7c495bc0f63e",
        "_uuid": "a3e6efdb1bc05afed9e4b370968a9eb7b47cfce7",
        "trusted": true
      },
      "cell_type": "code",
      "source": "def get_mae(max_leaf_nodes, predictors_train, predictors_val, targ_train, targ_val):\n    model = RandomForestRegressor(max_leaf_nodes=max_leaf_nodes, random_state=0)\n    model.fit(predictors_train, targ_train)\n    preds_val = model.predict(predictors_val)\n    mae = mean_absolute_error(targ_val, preds_val)\n    return(mae)\n# compare MAE with differing values of max_leaf_nodes\nfor max_leaf_nodes in [5, 50, 500, 5000]:\n    my_mae = get_mae(max_leaf_nodes, train_X, val_X, train_y, val_y)\n    print(\"Max leaf nodes: %d  \\t\\t Mean Absolute Error:  %d\" %(max_leaf_nodes, my_mae))\n# Thus 50 is the optimal No.of leaves that a decision tree can have",
      "execution_count": 9,
      "outputs": [
        {
          "name": "stdout",
          "output_type": "stream",
          "text": "Max leaf nodes: 5  \t\t Mean Absolute Error:  33934\nMax leaf nodes: 50  \t\t Mean Absolute Error:  23633\nMax leaf nodes: 500  \t\t Mean Absolute Error:  24463\nMax leaf nodes: 5000  \t\t Mean Absolute Error:  24477\n"
        }
      ]
    },
    {
      "metadata": {
        "_cell_guid": "d5bb9e7e-ec0c-45ee-aa15-52c608c25779",
        "_uuid": "e1aed5a9900d01dcf82a05af11c9a6e86c8a1b87",
        "trusted": true
      },
      "cell_type": "code",
      "source": "# Using Random Forest Regressor \nfrom sklearn.ensemble import RandomForestRegressor\nfrom sklearn.metrics import mean_absolute_error\n\nforest_model = RandomForestRegressor()\nforest_model.fit(train_X, train_y)\nmelb_preds = forest_model.predict(val_X)\nprint(mean_absolute_error(val_y, melb_preds))",
      "execution_count": 10,
      "outputs": [
        {
          "name": "stdout",
          "output_type": "stream",
          "text": "25088.3729224\n"
        }
      ]
    },
    {
      "metadata": {
        "_cell_guid": "285cca92-e1d0-4d73-8e91-ce7b22b563c9",
        "_uuid": "24bf4f7d4348a758df52f609a63313820917394c",
        "trusted": true
      },
      "cell_type": "code",
      "source": "# Read the test data\ntest = pd.read_csv('../input/test.csv')\n# Treat the test data in the same way as training data. In this case, pull same columns.\ntest_X = test[Iowa_predictors]\n# Use the model to make predictions\npredicted_prices = iowaForest_model.predict(test_X)\n# We will look at the predicted prices to ensure we have something sensible.\nprint(predicted_prices)\n",
      "execution_count": 11,
      "outputs": [
        {
          "name": "stdout",
          "output_type": "stream",
          "text": "[ 129090.   149150.   195800.  ...,  147173.2  128300.   215830. ]\n"
        }
      ]
    },
    {
      "metadata": {
        "_cell_guid": "dbed92d3-6b0d-44ac-ac67-56975d7408e9",
        "_uuid": "307d5dadb8744bb88bc22c591f77846e8326f3d6",
        "collapsed": true,
        "trusted": true
      },
      "cell_type": "code",
      "source": "my_submission = pd.DataFrame({'Id': test.Id, 'SalePrice': predicted_prices})\n# you could use any filename. We choose submission here\nmy_submission.to_csv('RandomForestRegressor.csv', index=False)\n",
      "execution_count": 12,
      "outputs": []
    },
    {
      "metadata": {
        "trusted": true,
        "_uuid": "b9bb290a789ed400435debf824229acf73b15dcb"
      },
      "cell_type": "code",
      "source": "# Datas With Missing Values \nprint(data.isnull().sum()) ",
      "execution_count": 13,
      "outputs": [
        {
          "name": "stdout",
          "output_type": "stream",
          "text": "Id                  0\nMSSubClass          0\nMSZoning            0\nLotFrontage       259\nLotArea             0\nStreet              0\nAlley            1369\nLotShape            0\nLandContour         0\nUtilities           0\nLotConfig           0\nLandSlope           0\nNeighborhood        0\nCondition1          0\nCondition2          0\nBldgType            0\nHouseStyle          0\nOverallQual         0\nOverallCond         0\nYearBuilt           0\nYearRemodAdd        0\nRoofStyle           0\nRoofMatl            0\nExterior1st         0\nExterior2nd         0\nMasVnrType          8\nMasVnrArea          8\nExterQual           0\nExterCond           0\nFoundation          0\n                 ... \nBedroomAbvGr        0\nKitchenAbvGr        0\nKitchenQual         0\nTotRmsAbvGrd        0\nFunctional          0\nFireplaces          0\nFireplaceQu       690\nGarageType         81\nGarageYrBlt        81\nGarageFinish       81\nGarageCars          0\nGarageArea          0\nGarageQual         81\nGarageCond         81\nPavedDrive          0\nWoodDeckSF          0\nOpenPorchSF         0\nEnclosedPorch       0\n3SsnPorch           0\nScreenPorch         0\nPoolArea            0\nPoolQC           1453\nFence            1179\nMiscFeature      1406\nMiscVal             0\nMoSold              0\nYrSold              0\nSaleType            0\nSaleCondition       0\nSalePrice           0\nLength: 81, dtype: int64\n"
        }
      ]
    },
    {
      "metadata": {
        "trusted": true,
        "collapsed": true,
        "_uuid": "f650e5234a46914a78ed51cc25be144d74e72d14"
      },
      "cell_type": "code",
      "source": "iowa_target = train_data.SalePrice\niowa_predictors = train_data.drop(['SalePrice'], axis=1)\niowa_numeric_predictors = iowa_predictors.select_dtypes(exclude=['object'])",
      "execution_count": 33,
      "outputs": []
    },
    {
      "metadata": {
        "trusted": true,
        "_uuid": "20715cb4f3d86351dd7cc398610b76df38c9415e"
      },
      "cell_type": "code",
      "source": "# Model score from dropping missing values\nfrom sklearn.model_selection import train_test_split\n\nX_train, X_test, y_train, y_test = train_test_split(iowa_numeric_predictors, \n                                                    iowa_target,\n                                                    train_size=0.7, \n                                                    test_size=0.3, \n                                                    random_state=0)\ndef score_dataset(X_train, X_test, y_train, y_test):\n    model = RandomForestRegressor()\n    model.fit(X_train, y_train)\n    preds = model.predict(X_test)\n    return mean_absolute_error(y_test, preds)\ncols_with_missing = [col for col in X_train.columns \n                                 if X_train[col].isnull().any()]\nreduced_X_train = X_train.drop(cols_with_missing, axis=1)\nreduced_X_test  = X_test.drop(cols_with_missing, axis=1)\nprint(\"Mean Absolute Error from dropping columns with Missing Values:\")\nprint(score_dataset(reduced_X_train, reduced_X_test, y_train, y_test))",
      "execution_count": 34,
      "outputs": [
        {
          "output_type": "stream",
          "text": "Mean Absolute Error from dropping columns with Missing Values:\n18395.8452055\n",
          "name": "stdout"
        }
      ]
    },
    {
      "metadata": {
        "trusted": true,
        "_uuid": "02c53c774782fe02d24ef4ba845d8babd7a8ac5a"
      },
      "cell_type": "code",
      "source": "# Get Model Score from Imputation\n\nfrom sklearn.preprocessing import Imputer\n\nmy_imputer = Imputer()\nimputed_X_train = my_imputer.fit_transform(X_train)\nimputed_X_test = my_imputer.transform(X_test)\nprint(\"Mean Absolute Error from Imputation:\")\nprint(score_dataset(imputed_X_train, imputed_X_test, y_train, y_test))",
      "execution_count": 35,
      "outputs": [
        {
          "output_type": "stream",
          "text": "Mean Absolute Error from Imputation:\n19385.9803653\n",
          "name": "stdout"
        }
      ]
    },
    {
      "metadata": {
        "trusted": true,
        "_uuid": "52560309aeaeb5d70bb0946f1c3559f16187540a"
      },
      "cell_type": "code",
      "source": "# Get Score from Imputation with Extra Columns Showing What Was Imputed\nimputed_X_train_plus = X_train.copy()\nimputed_X_test_plus = X_test.copy()\n\ncols_with_missing = (col for col in X_train.columns \n                                 if X_train[col].isnull().any())\nfor col in cols_with_missing:\n    imputed_X_train_plus[col + '_was_missing'] = imputed_X_train_plus[col].isnull()\n    imputed_X_test_plus[col + '_was_missing'] = imputed_X_test_plus[col].isnull()\n\n# Imputation\nmy_imputer = Imputer()\nimputed_X_train_plus = my_imputer.fit_transform(imputed_X_train_plus)\nimputed_X_test_plus = my_imputer.transform(imputed_X_test_plus)\n\nprint(\"Mean Absolute Error from Imputation while Track What Was Imputed:\")\nprint(score_dataset(imputed_X_train_plus, imputed_X_test_plus, y_train, y_test))",
      "execution_count": 36,
      "outputs": [
        {
          "output_type": "stream",
          "text": "Mean Absolute Error from Imputation while Track What Was Imputed:\n19116.9047945\n",
          "name": "stdout"
        }
      ]
    }
  ],
  "metadata": {
    "kernelspec": {
      "display_name": "Python 3",
      "language": "python",
      "name": "python3"
    },
    "language_info": {
      "name": "python",
      "version": "3.6.4",
      "mimetype": "text/x-python",
      "codemirror_mode": {
        "name": "ipython",
        "version": 3
      },
      "pygments_lexer": "ipython3",
      "nbconvert_exporter": "python",
      "file_extension": ".py"
    }
  },
  "nbformat": 4,
  "nbformat_minor": 1
}